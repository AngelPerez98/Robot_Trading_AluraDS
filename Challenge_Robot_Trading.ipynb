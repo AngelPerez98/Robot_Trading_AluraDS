{
  "cells": [
    {
      "cell_type": "markdown",
      "metadata": {
        "id": "view-in-github",
        "colab_type": "text"
      },
      "source": [
        "<a href=\"https://colab.research.google.com/github/AngelPerez98/Robot_Trading_AluraDS/blob/main/Challenge_Robot_Trading.ipynb\" target=\"_parent\"><img src=\"https://colab.research.google.com/assets/colab-badge.svg\" alt=\"Open In Colab\"/></a>"
      ]
    },
    {
      "cell_type": "markdown",
      "metadata": {
        "id": "F4ToSaWk3OD_"
      },
      "source": [
        "#Challenge - Robot Trading"
      ]
    },
    {
      "cell_type": "markdown",
      "metadata": {
        "id": "DTJvi_yn3U7z"
      },
      "source": [
        "##1. Configuracion del ambiente"
      ]
    },
    {
      "cell_type": "code",
      "execution_count": 1,
      "metadata": {
        "id": "98u28BgKTW4g"
      },
      "outputs": [],
      "source": [
        "import pandas as pd\n",
        "import numpy as np\n",
        "import matplotlib.pyplot as plt\n",
        "import yfinance as yf\n",
        "import time\n",
        "\n",
        "global df_bitcoin, precio_actual, tendencia, media_bitcoin,  algoritmo_decision"
      ]
    },
    {
      "cell_type": "code",
      "execution_count": 2,
      "metadata": {
        "colab": {
          "base_uri": "https://localhost:8080/"
        },
        "id": "tp6MfnU83Ri_",
        "outputId": "061cc6ab-56a5-4f0e-d67d-5c938d77e4e1"
      },
      "outputs": [
        {
          "output_type": "stream",
          "name": "stdout",
          "text": [
            "Python 3.10.12\n",
            "------\n",
            "Name: pandas\n",
            "Version: 1.5.3\n",
            "------\n",
            "Name: numpy\n",
            "Version: 1.23.5\n",
            "------\n",
            "Name: matplotlib\n",
            "Version: 3.7.1\n",
            "------\n"
          ]
        }
      ],
      "source": [
        "!python -V\n",
        "print('------')\n",
        "!pip show Pandas | grep 'Name\\|Version'\n",
        "print('------')\n",
        "!pip show Numpy | grep 'Name\\|Version'\n",
        "print('------')\n",
        "!pip show Matplotlib | grep 'Name\\|Version'\n",
        "print('------')"
      ]
    },
    {
      "cell_type": "markdown",
      "source": [
        "##2. Obtención de datos"
      ],
      "metadata": {
        "id": "yafeKLamvMnF"
      }
    },
    {
      "cell_type": "code",
      "execution_count": 3,
      "metadata": {
        "id": "bH3XjM0N5GY-"
      },
      "outputs": [],
      "source": [
        "#Aquí extraemos el historico de precios del bitcoin 7 días atrás en intervalos de 5 minutos\n",
        "def importar_base_bitcoin():\n",
        " global df_bitcoin\n",
        "\n",
        " btc_usd = yf.Ticker(\"BTC-USD\")\n",
        " df_bitcoin = btc_usd.history(period=\"7d\", interval = \"5m\")\n",
        " return df_bitcoin"
      ]
    },
    {
      "cell_type": "code",
      "execution_count": 4,
      "metadata": {
        "colab": {
          "base_uri": "https://localhost:8080/"
        },
        "id": "rJhv4KOYCFwR",
        "outputId": "32e8fbae-7c3d-49fd-f779-6d01b23e7812"
      },
      "outputs": [
        {
          "output_type": "stream",
          "name": "stdout",
          "text": [
            "El precio actual es -> 41534.58 USD\n",
            "La tendencia es -> Baja\n"
          ]
        },
        {
          "output_type": "execute_result",
          "data": {
            "text/plain": [
              "41534.58"
            ]
          },
          "metadata": {},
          "execution_count": 4
        }
      ],
      "source": [
        "def extraer_tendencia():\n",
        "  global df_bitcoin, precio_actual, tendencia, media_bitcoin,  algoritmo_decision\n",
        "  #Realizamos Web Scrapping para tener información acerca del precio del bitcoin\n",
        "  from bs4 import BeautifulSoup\n",
        "  import requests\n",
        "\n",
        "  #Declaramos nuestro User Agent\n",
        "  headers = {'User Agent' : 'Mozilla/5.0 (Windows NT 10.0; Win64; x64) AppleWebKit/537.36 (KHTML, like Gecko) Chrome/118.0.0.0 Safari/537.36'}\n",
        "  url = \"https://coinmarketcap.com/\"\n",
        "  respuesta = requests.get(url, headers = headers)\n",
        "  s = BeautifulSoup(respuesta.content, features = \"lxml\")\n",
        "\n",
        "  #Buscamos el precio actual del bitcoin y lo convertimos en un float\n",
        "  find_precio = s.find('div',{'class':[\"sc-a0353bbc-0 gDrtaY\",\"sc-a0353bbc-0 gDrtaY rise\",\"sc-a0353bbc-0 gDrtaY fall\"]}).getText()\n",
        "  precio_actual = float(find_precio.strip('$').replace(',','').strip())\n",
        "  print(f'El precio actual es -> {precio_actual} USD')\n",
        "\n",
        "  #Obtenemos la tendencia del bitcoin por hora\n",
        "  url2 = \"https://coinmarketcap.com/\"\n",
        "  respuesta2 = requests.get(url2, headers = headers)\n",
        "  s2 = BeautifulSoup(respuesta2.content, features = \"lxml\")\n",
        "\n",
        "  #Buscamos la tendencia en 2 clases, las cuales representan el color del icono que indica la tendencia, es decir, verde si está a la alta\n",
        "  #o rojo si está a la baja\n",
        "  find_tendencia = s2.find('span',{'class':[\"sc-d55c02b-0 gUnzUB\",\"sc-d55c02b-0 iwhBxy\"]})\n",
        "\n",
        "  #Guardamos la tendencia de acuerdo a como se muestre el icono en la variable tendencia\n",
        "  #Baja -> 'gUnzUB'\n",
        "  #Alta -> 'iwhBxy'\n",
        "  if find_tendencia.get('class')[1] == 'gUnzUB':\n",
        "    tendencia = 'Baja'\n",
        "    print(f'La tendencia es -> {tendencia}')\n",
        "  elif find_tendencia.get('class')[1] == 'iwhBxy':\n",
        "    tendencia = 'Alta'\n",
        "    print(f'La tendencia es -> {tendencia}')\n",
        "\n",
        "  return precio_actual\n",
        "  return tendencia\n",
        "\n",
        "extraer_tendencia()"
      ]
    },
    {
      "cell_type": "markdown",
      "source": [
        "##3. Limpieza de Datos"
      ],
      "metadata": {
        "id": "wxJLejYhPdtw"
      }
    },
    {
      "cell_type": "code",
      "execution_count": 5,
      "metadata": {
        "id": "m6KtdyQEPSeZ",
        "colab": {
          "base_uri": "https://localhost:8080/"
        },
        "outputId": "2667bf67-d93c-4e4a-ad63-33af2d396265"
      },
      "outputs": [
        {
          "output_type": "stream",
          "name": "stdout",
          "text": [
            "El valor promedio del Bitcoin es -> 38668.37\n"
          ]
        },
        {
          "output_type": "execute_result",
          "data": {
            "text/plain": [
              "38668.37226055195"
            ]
          },
          "metadata": {},
          "execution_count": 5
        }
      ],
      "source": [
        "def limpieza_datos():\n",
        "  global df_bitcoin, precio_actual, tendencia, media_bitcoin,  algoritmo_decision\n",
        "\n",
        "  importar_base_bitcoin()\n",
        "\n",
        "  #Realizaremos una copia de nuestro dataframe creado previamente\n",
        "  df_bitcoin_limpio = df_bitcoin.copy()\n",
        "\n",
        "  #Para el tratamiento de datos, utilizaremos Datetime, Close y Volume\n",
        "  #Eliminaremos las columnas que no utilizamos\n",
        "  df_bitcoin_limpio.drop(columns=['Open','High','Low','Stock Splits','Dividends','Stock Splits'], inplace=True)\n",
        "\n",
        "  #Eliminamos los valores de Volume mayores a 0\n",
        "  close = df_bitcoin_limpio[df_bitcoin_limpio['Volume'] > 0]\n",
        "  close\n",
        "\n",
        "  #Importamos las bibliotecas necesarias para realizar nuestros boxplot\n",
        "  %matplotlib inline\n",
        "  plt.rc('figure', figsize = (14,6))\n",
        "\n",
        "  #Creamos los cuartiles de nuestro boxplot\n",
        "  #Q1 = close.quantile(.25)\n",
        "  #Q3 = close.quantile(.75)\n",
        "  #IIQ = Q3 - Q1\n",
        "  #limite_inferior = Q1 - 1.5 * IIQ\n",
        "  #limite_superior = Q3 + 1.5 * IIQ\n",
        "\n",
        "  #seleccion = (close >= limite_inferior) & (close <= limite_superior)\n",
        "  #volume_limpio = close[seleccion]\n",
        "  #volume_limpio.boxplot(['Close'])\n",
        "  #plt.show()\n",
        "\n",
        "  Q1 = close.quantile(.25)\n",
        "  Q3 = close.quantile(.75)\n",
        "  IIQ = Q3 - Q1\n",
        "  limite_inferior = Q1\n",
        "  limite_superior = Q3\n",
        "\n",
        "  seleccion_close = (close >= limite_inferior) & (close <= limite_superior)\n",
        "\n",
        "  close_sel = close[seleccion_close]['Close']\n",
        "  close_sel.dropna(inplace=True)\n",
        "\n",
        "  media_bitcoin = close_sel.mean()\n",
        "  print(f'El valor promedio del Bitcoin es -> {media_bitcoin.round(2)}')\n",
        "\n",
        "  return media_bitcoin\n",
        "\n",
        "limpieza_datos()"
      ]
    },
    {
      "cell_type": "markdown",
      "source": [
        "##4. Toma de decisiones"
      ],
      "metadata": {
        "id": "6RqcW-Du_d5y"
      }
    },
    {
      "cell_type": "code",
      "source": [
        "def tomar_decisiones():\n",
        "  global algoritmo_decision;\n",
        "\n",
        "  if ((precio_actual >= media_bitcoin) & (tendencia == 'Baja')):\n",
        "    algoritmo_decision = 'Vender'\n",
        "    print(f'La recomendación es -> {algoritmo_decision}')\n",
        "  elif ((precio_actual < media_bitcoin) & (tendencia == 'Alta')):\n",
        "    algoritmo_decision = 'Comprar'\n",
        "    print(f'La recomendación es -> {algoritmo_decision}')\n",
        "  else:\n",
        "    algoritmo_decision = 'Esperar'\n",
        "    print(f'La recomendación es -> {algoritmo_decision}')\n",
        "\n",
        "tomar_decisiones()"
      ],
      "metadata": {
        "id": "na9DzikRNrhM",
        "colab": {
          "base_uri": "https://localhost:8080/"
        },
        "outputId": "63a01765-23b8-4861-f88b-c7dc9c3df1cd"
      },
      "execution_count": 6,
      "outputs": [
        {
          "output_type": "stream",
          "name": "stdout",
          "text": [
            "La recomendación es -> Vender\n"
          ]
        }
      ]
    },
    {
      "cell_type": "markdown",
      "source": [
        "## 5. Visualización"
      ],
      "metadata": {
        "id": "ctTKSIBO73lR"
      }
    },
    {
      "cell_type": "code",
      "source": [
        "def visualizacion():\n",
        "  global df_bitcoin, precio_actual, tendencia, media_bitcoin,  algoritmo_decision\n",
        "\n",
        "  %matplotlib inline\n",
        "  import matplotlib.patches as mpatches\n",
        "  plt.rc('figure', figsize = (14,5))\n",
        "\n",
        "  importar_base_bitcoin()\n",
        "\n",
        "  df_bitcoin = df_bitcoin.assign(Mean = media_bitcoin)\n",
        "\n",
        "  plt.plot(df_bitcoin.index, df_bitcoin['Close'])\n",
        "  plt.plot(df_bitcoin.index, df_bitcoin['Mean'])\n",
        "\n",
        "  plt.text(df_bitcoin.index[-1], media_bitcoin + 50, f'Promedio: {media_bitcoin:.2f}', color='black', verticalalignment='bottom', horizontalalignment='right')\n",
        "\n",
        "  plt.title('Precio del Bitcoin')\n",
        "  plt.xlabel('Fecha')\n",
        "  plt.ylabel('Precio (USD)')\n",
        "\n",
        "  if algoritmo_decision == 'Vender':\n",
        "    plt.annotate('Vender', xy=(df_bitcoin.index[-1], df_bitcoin['Close'].iloc[-1]), xytext=(-10, 50),\n",
        "                  textcoords='offset points', arrowprops=dict(facecolor='red', shrink=0.1))\n",
        "  elif algoritmo_decision == 'Comprar':\n",
        "    plt.annotate('Comprar', xy=(df_bitcoin.index[-1], df_bitcoin['Close'].iloc[-1]), xytext=(-10, 50),\n",
        "                  textcoords='offset points', arrowprops=dict(facecolor='green', shrink=0.1))\n",
        "  else:\n",
        "    plt.annotate('Esperar', xy=(df_bitcoin.index[-1], df_bitcoin['Close'].iloc[-1]), xytext=(-10, 50),\n",
        "                 textcoords='offset points', arrowprops=dict(facecolor='black', shrink=0.1))\n",
        "  plt.show()\n",
        "\n",
        "visualizacion()"
      ],
      "metadata": {
        "id": "mM9I5-63AvrV",
        "outputId": "613343ec-fc36-4cf6-baa5-561743507615",
        "colab": {
          "base_uri": "https://localhost:8080/",
          "height": 489
        }
      },
      "execution_count": 7,
      "outputs": [
        {
          "output_type": "display_data",
          "data": {
            "text/plain": [
              "<Figure size 1400x500 with 1 Axes>"
            ],
            "image/png": "[encoded data removed]"
          },
          "metadata": {}
        }
      ]
    },
    {
      "cell_type": "code",
      "source": [
        "from IPython.display import clear_output\n",
        "\n",
        "try:\n",
        "  while(True):\n",
        "    clear_output()\n",
        "    importar_base_bitcoin()\n",
        "    extraer_tendencia()\n",
        "    limpieza_datos()\n",
        "    tomar_decisiones()\n",
        "    visualizacion()\n",
        "    time.sleep(300)\n",
        "except KeyboardInterrupt:\n",
        "  clear_output()\n",
        "  print('Proceso Finalizado')"
      ],
      "metadata": {
        "id": "O9PYJPHjyjdS",
        "colab": {
          "base_uri": "https://localhost:8080/",
          "height": 560
        },
        "outputId": "e0b5bba1-45dd-4c8d-d972-8c8fa1f48afe"
      },
      "execution_count": 10,
      "outputs": [
        {
          "output_type": "stream",
          "name": "stdout",
          "text": [
            "Proceso Finalizado\n"
          ]
        }
      ]
    },
    {
      "cell_type": "code",
      "source": [],
      "metadata": {
        "id": "BQyXhcwTDR6f"
      },
      "execution_count": null,
      "outputs": []
    }
  ],
  "metadata": {
    "colab": {
      "provenance": [],
      "authorship_tag": "ABX9TyM/5rwnN5m11bQP4AWZr/1A",
      "include_colab_link": true
    },
    "kernelspec": {
      "display_name": "Python 3",
      "name": "python3"
    },
    "language_info": {
      "name": "python"
    }
  },
  "nbformat": 4,
  "nbformat_minor": 0
}